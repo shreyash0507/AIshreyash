{
  "nbformat": 4,
  "nbformat_minor": 0,
  "metadata": {
    "colab": {
      "name": "ANN_on_digit_recognisation.ipynb",
      "provenance": []
    },
    "kernelspec": {
      "name": "python3",
      "display_name": "Python 3"
    }
  },
  "cells": [
    {
      "cell_type": "markdown",
      "metadata": {
        "id": "GwKkmui7isOs"
      },
      "source": [
        "**Digit Recognization** - AI Mini project\n",
        "\n",
        "> By - **SHREYASH SHANTANU**\n",
        "\n",
        "\n",
        "\n",
        "---\n",
        "\n"
      ]
    },
    {
      "cell_type": "markdown",
      "metadata": {
        "id": "uh1eO_DiDFqx"
      },
      "source": [
        "Importing the important libaries"
      ]
    },
    {
      "cell_type": "code",
      "metadata": {
        "id": "YdxTuyb5Cy-O"
      },
      "source": [
        "import numpy as np\n",
        "import pandas as pd\n",
        "import matplotlib.pyplot as plt\n",
        "import seaborn as sns\n",
        "import tensorflow as tf"
      ],
      "execution_count": 1,
      "outputs": []
    },
    {
      "cell_type": "markdown",
      "metadata": {
        "id": "iMznyxbaib23"
      },
      "source": [
        "Loading the MNIST dataset"
      ]
    },
    {
      "cell_type": "code",
      "metadata": {
        "id": "a1fQdgwYDkz3",
        "colab": {
          "base_uri": "https://localhost:8080/"
        },
        "outputId": "f783ae62-8fd2-4f67-bcd9-f2c02cb57b38"
      },
      "source": [
        "(X_train,y_train),(X_test,y_test) = tf.keras.datasets.mnist.load_data(path=\"mnist.npz\")"
      ],
      "execution_count": 2,
      "outputs": [
        {
          "output_type": "stream",
          "text": [
            "Downloading data from https://storage.googleapis.com/tensorflow/tf-keras-datasets/mnist.npz\n",
            "11493376/11490434 [==============================] - 0s 0us/step\n"
          ],
          "name": "stdout"
        }
      ]
    },
    {
      "cell_type": "markdown",
      "metadata": {
        "id": "nsFA2tu5iqnT"
      },
      "source": [
        "Previewing an example"
      ]
    },
    {
      "cell_type": "code",
      "metadata": {
        "id": "Ptu_Uku0EJAF",
        "colab": {
          "base_uri": "https://localhost:8080/",
          "height": 283
        },
        "outputId": "2066907a-fdd2-4ba9-e59c-f7b3519fcc30"
      },
      "source": [
        "plt.imshow(X_train[0],cmap='gray')"
      ],
      "execution_count": 3,
      "outputs": [
        {
          "output_type": "execute_result",
          "data": {
            "text/plain": [
              "<matplotlib.image.AxesImage at 0x7f41348b32e8>"
            ]
          },
          "metadata": {
            "tags": []
          },
          "execution_count": 3
        },
        {
          "output_type": "display_data",
          "data": {
            "image/png": "[encoded data removed]",
            "text/plain": [
              "<Figure size 432x288 with 1 Axes>"
            ]
          },
          "metadata": {
            "tags": [],
            "needs_background": "light"
          }
        }
      ]
    },
    {
      "cell_type": "markdown",
      "metadata": {
        "id": "vac_cb2djbq8"
      },
      "source": [
        "This digit is"
      ]
    },
    {
      "cell_type": "code",
      "metadata": {
        "id": "ulkDMDfWENJg",
        "colab": {
          "base_uri": "https://localhost:8080/"
        },
        "outputId": "8d662cd4-2385-435b-b2a7-e3d08e6eeafb"
      },
      "source": [
        "y_train[0]"
      ],
      "execution_count": 4,
      "outputs": [
        {
          "output_type": "execute_result",
          "data": {
            "text/plain": [
              "5"
            ]
          },
          "metadata": {
            "tags": []
          },
          "execution_count": 4
        }
      ]
    },
    {
      "cell_type": "markdown",
      "metadata": {
        "id": "maVmJOM8josT"
      },
      "source": [
        "Checking size of our ndarrays"
      ]
    },
    {
      "cell_type": "code",
      "metadata": {
        "id": "SPPWmK2cEkg6",
        "colab": {
          "base_uri": "https://localhost:8080/"
        },
        "outputId": "75e61aab-8074-411b-cb85-008de07df3a5"
      },
      "source": [
        "print(X_train.shape)\n",
        "print(X_test.shape)\n",
        "print(y_train.shape)\n",
        "print(y_test.shape)"
      ],
      "execution_count": 5,
      "outputs": [
        {
          "output_type": "stream",
          "text": [
            "(60000, 28, 28)\n",
            "(10000, 28, 28)\n",
            "(60000,)\n",
            "(10000,)\n"
          ],
          "name": "stdout"
        }
      ]
    },
    {
      "cell_type": "code",
      "metadata": {
        "id": "7oe4tz9WFF5J",
        "colab": {
          "base_uri": "https://localhost:8080/"
        },
        "outputId": "eef75948-e89e-4e51-c14d-fca20b35e8de"
      },
      "source": [
        "np.unique(y_train,return_counts=True)"
      ],
      "execution_count": 6,
      "outputs": [
        {
          "output_type": "execute_result",
          "data": {
            "text/plain": [
              "(array([0, 1, 2, 3, 4, 5, 6, 7, 8, 9], dtype=uint8),\n",
              " array([5923, 6742, 5958, 6131, 5842, 5421, 5918, 6265, 5851, 5949]))"
            ]
          },
          "metadata": {
            "tags": []
          },
          "execution_count": 6
        }
      ]
    },
    {
      "cell_type": "code",
      "metadata": {
        "id": "p2zeWPyFFXzw",
        "colab": {
          "base_uri": "https://localhost:8080/"
        },
        "outputId": "85821981-72d7-4dd4-b504-2f0f2e3a697f"
      },
      "source": [
        "np.unique(y_test,return_counts=True)"
      ],
      "execution_count": 7,
      "outputs": [
        {
          "output_type": "execute_result",
          "data": {
            "text/plain": [
              "(array([0, 1, 2, 3, 4, 5, 6, 7, 8, 9], dtype=uint8),\n",
              " array([ 980, 1135, 1032, 1010,  982,  892,  958, 1028,  974, 1009]))"
            ]
          },
          "metadata": {
            "tags": []
          },
          "execution_count": 7
        }
      ]
    },
    {
      "cell_type": "markdown",
      "metadata": {
        "id": "i5rNmHidj4wE"
      },
      "source": [
        "Normalizing the dataset"
      ]
    },
    {
      "cell_type": "code",
      "metadata": {
        "id": "H2GtO25mFqRG"
      },
      "source": [
        "X_train = X_train/255\n",
        "X_test = X_test/255"
      ],
      "execution_count": 8,
      "outputs": []
    },
    {
      "cell_type": "markdown",
      "metadata": {
        "id": "eSolcGSPj-tG"
      },
      "source": [
        "Number of neuron units for hidden layer"
      ]
    },
    {
      "cell_type": "code",
      "metadata": {
        "id": "oMNKxoU8F0ho",
        "colab": {
          "base_uri": "https://localhost:8080/"
        },
        "outputId": "e6073285-28d6-4034-895d-0ddea73204cc"
      },
      "source": [
        "(28*28)/2"
      ],
      "execution_count": 9,
      "outputs": [
        {
          "output_type": "execute_result",
          "data": {
            "text/plain": [
              "392.0"
            ]
          },
          "metadata": {
            "tags": []
          },
          "execution_count": 9
        }
      ]
    },
    {
      "cell_type": "markdown",
      "metadata": {
        "id": "CAwT-3ulkGOz"
      },
      "source": [
        "Creating the ANN model"
      ]
    },
    {
      "cell_type": "code",
      "metadata": {
        "id": "T-fu60C5BogZ"
      },
      "source": [
        "model = tf.keras.models.Sequential()\n",
        "model.add(tf.keras.layers.Flatten())\n",
        "model.add(tf.keras.layers.Dense(392,activation='relu'))\n",
        "model.add(tf.keras.layers.Dense(10,activation='softmax'))"
      ],
      "execution_count": 10,
      "outputs": []
    },
    {
      "cell_type": "markdown",
      "metadata": {
        "id": "oZADBU76kJ5U"
      },
      "source": [
        "Compiling the model"
      ]
    },
    {
      "cell_type": "code",
      "metadata": {
        "id": "1oiBANquDLei"
      },
      "source": [
        "model.compile(optimizer='adam',loss='sparse_categorical_crossentropy',metrics=['accuracy'])"
      ],
      "execution_count": 11,
      "outputs": []
    },
    {
      "cell_type": "markdown",
      "metadata": {
        "id": "MD4x7x8ekPyM"
      },
      "source": [
        "Fitting the train set in model"
      ]
    },
    {
      "cell_type": "code",
      "metadata": {
        "id": "G6n-DsDHGINl",
        "colab": {
          "base_uri": "https://localhost:8080/"
        },
        "outputId": "539ce2c0-d86f-4531-cb26-692402935c9a"
      },
      "source": [
        "model.fit(X_train,y_train,epochs=10)"
      ],
      "execution_count": 12,
      "outputs": [
        {
          "output_type": "stream",
          "text": [
            "Epoch 1/10\n",
            "1875/1875 [==============================] - 6s 3ms/step - loss: 0.2107 - accuracy: 0.9389\n",
            "Epoch 2/10\n",
            "1875/1875 [==============================] - 6s 3ms/step - loss: 0.0851 - accuracy: 0.9743\n",
            "Epoch 3/10\n",
            "1875/1875 [==============================] - 6s 3ms/step - loss: 0.0561 - accuracy: 0.9823\n",
            "Epoch 4/10\n",
            "1875/1875 [==============================] - 6s 3ms/step - loss: 0.0399 - accuracy: 0.9876\n",
            "Epoch 5/10\n",
            "1875/1875 [==============================] - 6s 3ms/step - loss: 0.0288 - accuracy: 0.9904\n",
            "Epoch 6/10\n",
            "1875/1875 [==============================] - 6s 3ms/step - loss: 0.0227 - accuracy: 0.9927\n",
            "Epoch 7/10\n",
            "1875/1875 [==============================] - 6s 3ms/step - loss: 0.0182 - accuracy: 0.9943\n",
            "Epoch 8/10\n",
            "1875/1875 [==============================] - 6s 3ms/step - loss: 0.0142 - accuracy: 0.9956\n",
            "Epoch 9/10\n",
            "1875/1875 [==============================] - 6s 3ms/step - loss: 0.0127 - accuracy: 0.9957\n",
            "Epoch 10/10\n",
            "1875/1875 [==============================] - 6s 3ms/step - loss: 0.0100 - accuracy: 0.9968\n"
          ],
          "name": "stdout"
        },
        {
          "output_type": "execute_result",
          "data": {
            "text/plain": [
              "<tensorflow.python.keras.callbacks.History at 0x7f412dccff60>"
            ]
          },
          "metadata": {
            "tags": []
          },
          "execution_count": 12
        }
      ]
    },
    {
      "cell_type": "markdown",
      "metadata": {
        "id": "DFRBldDMkZME"
      },
      "source": [
        "Predicting the values for X_test"
      ]
    },
    {
      "cell_type": "code",
      "metadata": {
        "id": "aw-R9JGeGLzr",
        "colab": {
          "base_uri": "https://localhost:8080/"
        },
        "outputId": "5b6c6a58-5286-4758-ae55-58a01dbdba71"
      },
      "source": [
        "y_pred = np.argmax(model.predict(X_test),axis=-1)\n",
        "y_pred"
      ],
      "execution_count": 13,
      "outputs": [
        {
          "output_type": "execute_result",
          "data": {
            "text/plain": [
              "array([7, 2, 1, ..., 4, 5, 6])"
            ]
          },
          "metadata": {
            "tags": []
          },
          "execution_count": 13
        }
      ]
    },
    {
      "cell_type": "markdown",
      "metadata": {
        "id": "hvxFAUQHke2c"
      },
      "source": [
        "Real test set"
      ]
    },
    {
      "cell_type": "code",
      "metadata": {
        "id": "RqHll2uHGl1l",
        "colab": {
          "base_uri": "https://localhost:8080/"
        },
        "outputId": "873e7605-e7c1-4a95-afa3-95b0d30d504c"
      },
      "source": [
        "y_test"
      ],
      "execution_count": 14,
      "outputs": [
        {
          "output_type": "execute_result",
          "data": {
            "text/plain": [
              "array([7, 2, 1, ..., 4, 5, 6], dtype=uint8)"
            ]
          },
          "metadata": {
            "tags": []
          },
          "execution_count": 14
        }
      ]
    },
    {
      "cell_type": "markdown",
      "metadata": {
        "id": "I0p9ZfyckhNk"
      },
      "source": [
        "Checking the accuracy of the model"
      ]
    },
    {
      "cell_type": "code",
      "metadata": {
        "id": "O6EUhgU4G6yS",
        "colab": {
          "base_uri": "https://localhost:8080/"
        },
        "outputId": "38f9cd6e-874f-4fe4-a5ea-9ae4a43e35e0"
      },
      "source": [
        "from sklearn.metrics import accuracy_score,confusion_matrix\n",
        "accuracy_score(y_test,y_pred)"
      ],
      "execution_count": 15,
      "outputs": [
        {
          "output_type": "execute_result",
          "data": {
            "text/plain": [
              "0.98"
            ]
          },
          "metadata": {
            "tags": []
          },
          "execution_count": 15
        }
      ]
    },
    {
      "cell_type": "markdown",
      "metadata": {
        "id": "v-oxpwn_kla7"
      },
      "source": [
        "Confusion matrix of the model"
      ]
    },
    {
      "cell_type": "code",
      "metadata": {
        "id": "Zt7TuVlBG-VX",
        "colab": {
          "base_uri": "https://localhost:8080/"
        },
        "outputId": "f8daef08-005b-4915-c541-ea5a5dd0538d"
      },
      "source": [
        "confusion_matrix(y_test,y_pred)"
      ],
      "execution_count": 16,
      "outputs": [
        {
          "output_type": "execute_result",
          "data": {
            "text/plain": [
              "array([[ 972,    0,    1,    0,    0,    1,    2,    1,    2,    1],\n",
              "       [   0, 1130,    0,    0,    0,    0,    2,    1,    2,    0],\n",
              "       [   4,    2, 1008,    3,    0,    0,    2,    4,    8,    1],\n",
              "       [   0,    0,    7,  982,    0,   11,    0,    2,    2,    6],\n",
              "       [   2,    3,    3,    0,  949,    0,    6,    1,    1,   17],\n",
              "       [   3,    0,    0,    7,    1,  867,    4,    1,    8,    1],\n",
              "       [   3,    2,    0,    0,    3,    1,  949,    0,    0,    0],\n",
              "       [   1,    5,    6,    2,    0,    0,    0, 1000,    7,    7],\n",
              "       [   8,    1,    4,    3,    0,    0,    1,    0,  954,    3],\n",
              "       [   2,    2,    2,    2,    2,    2,    0,    3,    5,  989]])"
            ]
          },
          "metadata": {
            "tags": []
          },
          "execution_count": 16
        }
      ]
    },
    {
      "cell_type": "markdown",
      "metadata": {
        "id": "DhX7CZwEksYs"
      },
      "source": [
        "Saving the model"
      ]
    },
    {
      "cell_type": "code",
      "metadata": {
        "id": "0IRlZldWHBKO"
      },
      "source": [
        "model.save('Digit_recong.h5')"
      ],
      "execution_count": 17,
      "outputs": []
    }
  ]
}